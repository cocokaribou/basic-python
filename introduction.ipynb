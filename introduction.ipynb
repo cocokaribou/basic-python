{
 "cells": [
  {
   "cell_type": "code",
   "execution_count": null,
   "metadata": {},
   "outputs": [],
   "source": [
    "##learning python 2020.11.24\n",
    "##anaconda version 2020.11\n",
    "##build channel py38_0\n",
    "##Python version 3.8.5\n",
    "\n",
    "\n",
    "## Day1\n",
    "\n",
    "## Python\n",
    "## object-oriented language\n",
    "## platform independent\n",
    "## dynamic typing\n",
    "\n",
    "\n",
    "## Why Python?\n",
    "## C friendly\n",
    "## easy to learn(allegedly), high productivity\n",
    "## Open Source with a Vibrant Community\n",
    "## Has All the Libraries You Can Imagine\n",
    "\n",
    "\n",
    "## anaconda\n",
    "## provides a running environment\n",
    "## Is more of a platform\n",
    "## anaconda = python development kit + data science related libraries\n",
    "\n",
    "## interactive mode vs script mode\n",
    "\n",
    "\n",
    "## IDE vs text editor\n",
    "## python IDE : pycharm\n",
    "## python text editor : atom, vscode, jupyter notebook"
   ]
  },
  {
   "cell_type": "code",
   "execution_count": 2,
   "metadata": {},
   "outputs": [
    {
     "name": "stdout",
     "output_type": "stream",
     "text": [
      "well duh\n",
      "outside of the indent\n"
     ]
    }
   ],
   "source": [
    "##strict indentation\n",
    "\n",
    "if 1 != 2:\n",
    "        print(\"well duh\")\n",
    "print(\"outside of the indent\")"
   ]
  }
 ],
 "metadata": {
  "kernelspec": {
   "display_name": "Python 3",
   "language": "python",
   "name": "python3"
  },
  "language_info": {
   "codemirror_mode": {
    "name": "ipython",
    "version": 3
   },
   "file_extension": ".py",
   "mimetype": "text/x-python",
   "name": "python",
   "nbconvert_exporter": "python",
   "pygments_lexer": "ipython3",
   "version": "3.8.5"
  }
 },
 "nbformat": 4,
 "nbformat_minor": 4
}
