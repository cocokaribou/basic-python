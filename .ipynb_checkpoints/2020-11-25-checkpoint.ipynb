{
 "cells": [
  {
   "cell_type": "code",
   "execution_count": 1,
   "metadata": {},
   "outputs": [],
   "source": [
    "## String in Python\n",
    "\n",
    "## similar to java char array\n",
    "\n",
    "## indexing vs slicing"
   ]
  },
  {
   "cell_type": "code",
   "execution_count": 2,
   "metadata": {},
   "outputs": [
    {
     "name": "stdout",
     "output_type": "stream",
     "text": [
      "P\n",
      "n\n"
     ]
    }
   ],
   "source": [
    "## indexing\n",
    "\n",
    "str = \"Life is too short, You need Python\"\n",
    "print(str[28])\n",
    "print(str[-1])"
   ]
  },
  {
   "cell_type": "code",
   "execution_count": 3,
   "metadata": {},
   "outputs": [
    {
     "name": "stdout",
     "output_type": "stream",
     "text": [
      "type(str): <class 'str'>\n",
      "str:  Life is too short, You need Python\n"
     ]
    }
   ],
   "source": [
    "print(\"type(str):\", type(str))\n",
    "print(\"str: \", str)"
   ]
  },
  {
   "cell_type": "code",
   "execution_count": 4,
   "metadata": {},
   "outputs": [
    {
     "name": "stdout",
     "output_type": "stream",
     "text": [
      "Year: 2020 Month: 11 Day: 25 Weather: Snow\n"
     ]
    }
   ],
   "source": [
    "## slicing\n",
    "\n",
    "str = \"20201125Snow\"\n",
    "print(\"Year:\", str[:4], \"Month:\", str[4:6], \"Day:\", str[6:8], \"Weather:\", str[8:])\n"
   ]
  },
  {
   "cell_type": "code",
   "execution_count": 9,
   "metadata": {},
   "outputs": [
    {
     "name": "stdout",
     "output_type": "stream",
     "text": [
      "20201125Snow\n",
      "3\n"
     ]
    }
   ],
   "source": [
    "print(str[:len(str)])\n",
    "\n",
    "print(len([1,3,5]))"
   ]
  },
  {
   "cell_type": "code",
   "execution_count": null,
   "metadata": {},
   "outputs": [],
   "source": [
    "## String related functions\n",
    "\n",
    "## find, index, count\n",
    "\n"
   ]
  }
 ],
 "metadata": {
  "kernelspec": {
   "display_name": "Python 3",
   "language": "python",
   "name": "python3"
  },
  "language_info": {
   "codemirror_mode": {
    "name": "ipython",
    "version": 3
   },
   "file_extension": ".py",
   "mimetype": "text/x-python",
   "name": "python",
   "nbconvert_exporter": "python",
   "pygments_lexer": "ipython3",
   "version": "3.8.5"
  }
 },
 "nbformat": 4,
 "nbformat_minor": 4
}
