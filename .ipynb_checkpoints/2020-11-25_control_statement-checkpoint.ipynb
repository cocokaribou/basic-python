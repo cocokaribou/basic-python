{
 "cells": [
  {
   "cell_type": "code",
   "execution_count": 1,
   "metadata": {},
   "outputs": [
    {
     "name": "stdout",
     "output_type": "stream",
     "text": [
      "well duh\n",
      "indentation is the key\n"
     ]
    }
   ],
   "source": [
    "## if\n",
    "\n",
    "if 10 > 0:\n",
    "    print(\"well duh\")\n",
    "    print(\"indentation is the key\")"
   ]
  },
  {
   "cell_type": "code",
   "execution_count": 2,
   "metadata": {},
   "outputs": [
    {
     "name": "stdout",
     "output_type": "stream",
     "text": [
      "-1 is below 0\n"
     ]
    }
   ],
   "source": [
    "num = -1\n",
    "\n",
    "if num > 50:\n",
    "    print(num, \"is bigger than 50\")\n",
    "elif num > 0:\n",
    "    print(num, \"is bigger than 0\")\n",
    "else:\n",
    "    print(num, \"is below 0\")"
   ]
  },
  {
   "cell_type": "code",
   "execution_count": 3,
   "metadata": {},
   "outputs": [
    {
     "name": "stdout",
     "output_type": "stream",
     "text": [
      "a is odd number\n"
     ]
    }
   ],
   "source": [
    "a = 1001\n",
    "\n",
    "print(\"a is even number\" if a%2 ==0 else \"a is odd number\")"
   ]
  },
  {
   "cell_type": "code",
   "execution_count": 4,
   "metadata": {},
   "outputs": [
    {
     "name": "stdout",
     "output_type": "stream",
     "text": [
      "input number:14\n",
      "input is even number\n"
     ]
    }
   ],
   "source": [
    "num = int(input(\"input number:\"))\n",
    "\n",
    "print(\"input is even number\" if num%2 ==0 else \"input is odd number\")"
   ]
  },
  {
   "cell_type": "code",
   "execution_count": 6,
   "metadata": {},
   "outputs": [
    {
     "name": "stdout",
     "output_type": "stream",
     "text": [
      "input number:15\n",
      "15 is odd number\n"
     ]
    }
   ],
   "source": [
    "num = int(input(\"input number:\"))\n",
    "\n",
    "print(num, \"is %s\" % (\"even number\"if num%2 ==0 else \"odd number\"))"
   ]
  },
  {
   "cell_type": "code",
   "execution_count": 8,
   "metadata": {},
   "outputs": [
    {
     "name": "stdout",
     "output_type": "stream",
     "text": [
      "input year:2000\n",
      "2000 is is leap year\n"
     ]
    }
   ],
   "source": [
    "year = int(input(\"input year:\"))\n",
    "\n",
    "print(year, \"is %s\" % (\"is leap year\") if year%4 == 0 and year%100 == 0 else \"regular year\")"
   ]
  }
 ],
 "metadata": {
  "kernelspec": {
   "display_name": "Python 3",
   "language": "python",
   "name": "python3"
  },
  "language_info": {
   "codemirror_mode": {
    "name": "ipython",
    "version": 3
   },
   "file_extension": ".py",
   "mimetype": "text/x-python",
   "name": "python",
   "nbconvert_exporter": "python",
   "pygments_lexer": "ipython3",
   "version": "3.8.5"
  }
 },
 "nbformat": 4,
 "nbformat_minor": 4
}
