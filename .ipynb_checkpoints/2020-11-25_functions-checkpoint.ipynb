{
 "cells": [
  {
   "cell_type": "code",
   "execution_count": 1,
   "metadata": {},
   "outputs": [],
   "source": [
    "## String in Python\n",
    "\n",
    "## similar to java char array\n",
    "\n",
    "## indexing vs slicing"
   ]
  },
  {
   "cell_type": "code",
   "execution_count": 2,
   "metadata": {},
   "outputs": [
    {
     "name": "stdout",
     "output_type": "stream",
     "text": [
      "P\n",
      "n\n"
     ]
    }
   ],
   "source": [
    "## indexing\n",
    "\n",
    "str = \"Life is too short, You need Python\"\n",
    "print(str[28])\n",
    "print(str[-1])"
   ]
  },
  {
   "cell_type": "code",
   "execution_count": 3,
   "metadata": {},
   "outputs": [
    {
     "name": "stdout",
     "output_type": "stream",
     "text": [
      "type(str): <class 'str'>\n",
      "str:  Life is too short, You need Python\n"
     ]
    }
   ],
   "source": [
    "print(\"type(str):\", type(str))\n",
    "print(\"str: \", str)"
   ]
  },
  {
   "cell_type": "code",
   "execution_count": 4,
   "metadata": {},
   "outputs": [
    {
     "name": "stdout",
     "output_type": "stream",
     "text": [
      "Year: 2020 Month: 11 Day: 25 Weather: Snow\n"
     ]
    }
   ],
   "source": [
    "## slicing\n",
    "\n",
    "str = \"20201125Snow\"\n",
    "print(\"Year:\", str[:4], \"Month:\", str[4:6], \"Day:\", str[6:8], \"Weather:\", str[8:])\n"
   ]
  },
  {
   "cell_type": "code",
   "execution_count": 5,
   "metadata": {},
   "outputs": [
    {
     "name": "stdout",
     "output_type": "stream",
     "text": [
      "20201125Snow\n",
      "3\n"
     ]
    }
   ],
   "source": [
    "print(str[:len(str)])\n",
    "\n",
    "print(len([1,3,5]))"
   ]
  },
  {
   "cell_type": "code",
   "execution_count": 6,
   "metadata": {},
   "outputs": [
    {
     "name": "stdout",
     "output_type": "stream",
     "text": [
      "12\n",
      "12\n",
      "-1\n"
     ]
    }
   ],
   "source": [
    "## String related functions\n",
    "\n",
    "## find, index\n",
    "\n",
    "test_str = \"Life is too Python, You need short\"\n",
    "print(test_str.find(\"Python\"))\n",
    "print(test_str.index(\"Python\"))\n",
    "\n",
    "## if fail to find String,\n",
    "\n",
    "print(test_str.find(\"Java\")) ##returns -1\n",
    "##print(test_str.index(\"Java\")) ## occurs ValueError"
   ]
  },
  {
   "cell_type": "code",
   "execution_count": 7,
   "metadata": {},
   "outputs": [
    {
     "name": "stdout",
     "output_type": "stream",
     "text": [
      "9\n",
      "31\n"
     ]
    }
   ],
   "source": [
    "## find() vs rfind()\n",
    "## find() will return the index of the first match. \n",
    "## But rfind will give you the last occurence of the pattern.\n",
    "\n",
    "print(test_str.find(\"o\"))\n",
    "print(test_str.rfind(\"o\"))"
   ]
  },
  {
   "cell_type": "code",
   "execution_count": 9,
   "metadata": {},
   "outputs": [
    {
     "name": "stdout",
     "output_type": "stream",
     "text": [
      "isnumeric( Ⅷ ) -> True\n",
      "isdigit( Ⅷ ) -> False\n",
      "isdecimal( Ⅷ ) -> False\n",
      "\n",
      "\n",
      "isnumeric( 3⁴ ) -> True\n",
      "isdigit( 3⁴ ) -> True\n",
      "isdecimal( 3⁴ ) -> False\n",
      "\n",
      "\n",
      "isnumeric( ⅚ ) -> True\n",
      "isdigit( ⅚ ) -> False\n",
      "isdecimal( ⅚ ) -> False\n",
      "\n",
      "\n",
      "isnumeric( 3 ) -> True\n",
      "isdigit( 3 ) -> True\n",
      "isdecimal( 3 ) -> True\n",
      "\n",
      "\n",
      "isnumeric( 3.14 ) -> False\n",
      "isdigit( 3.14 ) -> False\n",
      "isdecimal( 3.14 ) -> False\n",
      "\n",
      "\n"
     ]
    }
   ],
   "source": [
    "## isnumeric(), isdigit(), isdecimal()\n",
    "\n",
    "num_str_list = [\"Ⅷ\", \"3⁴\", \"⅚\", \"3\", \"3.14\"]\n",
    "\n",
    "for num_str in num_str_list:\n",
    "    print(\"isnumeric(\", num_str, \") ->\", num_str.isnumeric())\n",
    "    print(\"isdigit(\", num_str, \") ->\", num_str.isdigit())\n",
    "    print(\"isdecimal(\", num_str, \") ->\", num_str.isdecimal())\n",
    "    print(\"\\n\")"
   ]
  },
  {
   "cell_type": "code",
   "execution_count": 10,
   "metadata": {},
   "outputs": [
    {
     "name": "stdout",
     "output_type": "stream",
     "text": [
      "Python\n"
     ]
    }
   ],
   "source": [
    "## replace()\n",
    "\n",
    "wrong_str = \"Pithon\"\n",
    "print(wrong_str.replace(\"i\", \"y\"))"
   ]
  },
  {
   "cell_type": "code",
   "execution_count": 14,
   "metadata": {},
   "outputs": [
    {
     "name": "stdout",
     "output_type": "stream",
     "text": [
      "Pithon    \n",
      "    Pithon\n",
      "Pithon\n"
     ]
    }
   ],
   "source": [
    "## strip(), lstript(), rstript()\n",
    "\n",
    "print(wrong_str.ljust(10))\n",
    "print(wrong_str.rjust(10))\n",
    "print(wrong_str.ljust(len(wrong_str)))"
   ]
  },
  {
   "cell_type": "code",
   "execution_count": null,
   "metadata": {},
   "outputs": [],
   "source": [
    "## center(), ljust(), rjust()\n",
    "## alignment"
   ]
  },
  {
   "cell_type": "code",
   "execution_count": 18,
   "metadata": {},
   "outputs": [
    {
     "name": "stdout",
     "output_type": "stream",
     "text": [
      "['Life', 'is', 'too', 'Python,', 'You', 'need', 'short']\n",
      "['Life is t', '', ' Pyth', 'n, Y', 'u need sh', 'rt']\n"
     ]
    }
   ],
   "source": [
    "## split()\n",
    "\n",
    "print(test_str.split(\" \"))\n",
    "print(test_str.split(\"o\"))"
   ]
  },
  {
   "cell_type": "code",
   "execution_count": 19,
   "metadata": {},
   "outputs": [
    {
     "name": "stdout",
     "output_type": "stream",
     "text": [
      "Life is too Python, You need short\n"
     ]
    }
   ],
   "source": [
    "## join()\n",
    "\n",
    "str_list = test_str.split(\"o\")\n",
    "print(\"o\".join(str_list))"
   ]
  },
  {
   "cell_type": "code",
   "execution_count": 23,
   "metadata": {},
   "outputs": [
    {
     "name": "stdout",
     "output_type": "stream",
     "text": [
      "I eat three apples for a day\n",
      "I eat 3 apples for a day\n"
     ]
    }
   ],
   "source": [
    "## format character\n",
    "\n",
    "## integer\n",
    "## %d, %i, %u\n",
    "## %o, %x\n",
    "\n",
    "## string\n",
    "## %s\n",
    "\n",
    "## binary number formatting is not supported\n",
    "\n",
    "\n",
    "s = \"I eat %s apples for a day\" % \"three\"\n",
    "print(s)\n",
    "\n",
    "\n",
    "apple_num = 3\n",
    "s = \"I eat %d apples for a day\" % apple_num\n",
    "print(s)"
   ]
  },
  {
   "cell_type": "code",
   "execution_count": 28,
   "metadata": {},
   "outputs": [
    {
     "name": "stdout",
     "output_type": "stream",
     "text": [
      "3.14e+10\n",
      "3.140000e+10\n",
      "31400000000.000000\n"
     ]
    }
   ],
   "source": [
    "## %g, %e, %f\n",
    "\n",
    "num1 = 3.14\n",
    "num2 = 3.14e10\n",
    "\n",
    "\n",
    "print(\"%g\" % num2)\n",
    "print(\"%e\" % num2)\n",
    "print(\"%f\" % num2)"
   ]
  },
  {
   "cell_type": "code",
   "execution_count": null,
   "metadata": {},
   "outputs": [],
   "source": [
    "## format()\n",
    "\n"
   ]
  }
 ],
 "metadata": {
  "kernelspec": {
   "display_name": "Python 3",
   "language": "python",
   "name": "python3"
  },
  "language_info": {
   "codemirror_mode": {
    "name": "ipython",
    "version": 3
   },
   "file_extension": ".py",
   "mimetype": "text/x-python",
   "name": "python",
   "nbconvert_exporter": "python",
   "pygments_lexer": "ipython3",
   "version": "3.8.5"
  }
 },
 "nbformat": 4,
 "nbformat_minor": 4
}
